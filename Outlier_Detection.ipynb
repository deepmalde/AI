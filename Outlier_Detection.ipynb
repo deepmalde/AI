{
  "nbformat": 4,
  "nbformat_minor": 0,
  "metadata": {
    "colab": {
      "name": "Outlier Detection.ipynb",
      "provenance": [],
      "collapsed_sections": [],
      "toc_visible": true
    },
    "kernelspec": {
      "name": "python3",
      "display_name": "Python 3"
    },
    "language_info": {
      "name": "python"
    }
  },
  "cells": [
    {
      "cell_type": "code",
      "execution_count": null,
      "metadata": {
        "id": "vU41CtSGJk-H"
      },
      "outputs": [],
      "source": [
        "#Detecting Outliers"
      ]
    },
    {
      "cell_type": "code",
      "source": [
        "import numpy as np\n",
        "import matplotlib.pyplot as plt\n",
        "%matplotlib inline"
      ],
      "metadata": {
        "id": "njHXWrg4JwV_"
      },
      "execution_count": null,
      "outputs": []
    },
    {
      "cell_type": "code",
      "source": [
        "#Dataset\n",
        "dataset = [11,10,12,14,12,15,14,102,12,14,17,19,107,10,13,12,14,12,108,12,11,14,13,15,10,15,12,10,14,13,15,10,9]"
      ],
      "metadata": {
        "id": "Iylx1rYlKAdD"
      },
      "execution_count": null,
      "outputs": []
    },
    {
      "cell_type": "code",
      "source": [
        "outliers = []"
      ],
      "metadata": {
        "id": "USmuX78GLxnH"
      },
      "execution_count": null,
      "outputs": []
    },
    {
      "cell_type": "code",
      "source": [
        "#Function to detect outliers using z-scores\n",
        "\n",
        "def detect_outliers_zscores(data):\n",
        "\n",
        "  threshold = 3 # Count of 3rd Standard Deviation\n",
        "  mean = np.mean(data)\n",
        "  sd = np.std(data)\n",
        "\n",
        "  for i in data:\n",
        "\n",
        "    z_score = (i-mean)/sd\n",
        "    \n",
        "    if np.abs(z_score) > threshold:\n",
        "\n",
        "      outliers.append(i)\n",
        "\n",
        "  return outliers"
      ],
      "metadata": {
        "id": "UbRRckyuNz2Y"
      },
      "execution_count": null,
      "outputs": []
    },
    {
      "cell_type": "code",
      "source": [
        "detect_outliers_zscores(dataset)"
      ],
      "metadata": {
        "colab": {
          "base_uri": "https://localhost:8080/"
        },
        "id": "MO8cUYAXOejS",
        "outputId": "e4ea2308-a9f3-4cfe-d540-30122abc4a18"
      },
      "execution_count": null,
      "outputs": [
        {
          "output_type": "execute_result",
          "data": {
            "text/plain": [
              "[102, 107, 108]"
            ]
          },
          "metadata": {},
          "execution_count": 18
        }
      ]
    },
    {
      "cell_type": "code",
      "source": [
        "#Using IQR we'll calculate the outliers\n",
        "\n",
        "# 1. Sort the data\n",
        "# 2. Calculate the q1 and q3\n",
        "# 3. IQR = q3 - q1\n",
        "# 4. Determine the Lower Fence and Upper Fence\n",
        "# Lower Fence = q1 - 1.5(IQR)\n",
        "# Upper Fence = q3 + 1.5(IQR)\n",
        "# The data points not in range of (Lower Fence, Upper Fence) are termed as outliers."
      ],
      "metadata": {
        "id": "5D6CKuj5Z3hE"
      },
      "execution_count": null,
      "outputs": []
    },
    {
      "cell_type": "code",
      "source": [
        "def detect_outliers_iqr(data):\n",
        "\n",
        "  data = sorted(data)\n",
        "  outlier = []\n",
        "  q1,q3 = np.percentile(data,[25,75])\n",
        "  IQR = q3 - q1\n",
        "  lower_fence = int(q1 - (1.5 * IQR))\n",
        "  upper_fence = int(q3 + (1.5 * IQR))\n",
        "  print(lower_fence)\n",
        "  print(upper_fence)\n",
        "\n",
        "  for i in data:\n",
        "\n",
        "    if i not in range(lower_fence,upper_fence+1):\n",
        "\n",
        "      outlier.append(i)\n",
        "\n",
        "  return outlier\n",
        "\n",
        "\n"
      ],
      "metadata": {
        "id": "bCdLH4PJYsc8"
      },
      "execution_count": null,
      "outputs": []
    },
    {
      "cell_type": "code",
      "source": [
        "detect_outliers_iqr(dataset)"
      ],
      "metadata": {
        "colab": {
          "base_uri": "https://localhost:8080/"
        },
        "id": "1NyYwDYrbkeV",
        "outputId": "b2272392-adc3-4c10-e1e5-5f0820b279f9"
      },
      "execution_count": null,
      "outputs": [
        {
          "output_type": "stream",
          "name": "stdout",
          "text": [
            "7\n",
            "19\n"
          ]
        },
        {
          "output_type": "execute_result",
          "data": {
            "text/plain": [
              "[102, 107, 108]"
            ]
          },
          "metadata": {},
          "execution_count": 21
        }
      ]
    },
    {
      "cell_type": "code",
      "source": [
        "import seaborn as sns\n",
        "sns.boxplot(sorted(dataset))"
      ],
      "metadata": {
        "colab": {
          "base_uri": "https://localhost:8080/",
          "height": 336
        },
        "id": "x2FVbDKJbR_z",
        "outputId": "ffa18b61-c645-4d82-d3b5-3f721859ad44"
      },
      "execution_count": null,
      "outputs": [
        {
          "output_type": "stream",
          "name": "stderr",
          "text": [
            "/usr/local/lib/python3.7/dist-packages/seaborn/_decorators.py:43: FutureWarning: Pass the following variable as a keyword arg: x. From version 0.12, the only valid positional argument will be `data`, and passing other arguments without an explicit keyword will result in an error or misinterpretation.\n",
            "  FutureWarning\n"
          ]
        },
        {
          "output_type": "execute_result",
          "data": {
            "text/plain": [
              "<matplotlib.axes._subplots.AxesSubplot at 0x7f4f42d48510>"
            ]
          },
          "metadata": {},
          "execution_count": 26
        },
        {
          "output_type": "display_data",
          "data": {
            "text/plain": [
              "<Figure size 432x288 with 1 Axes>"
            ],
            "image/png": "[encoded data removed]"
          },
          "metadata": {
            "needs_background": "light"
          }
        }
      ]
    },
    {
      "cell_type": "code",
      "source": [
        "import seaborn as sns\n",
        "sns.boxplot(dataset)"
      ],
      "metadata": {
        "id": "GvSS91Dob1la",
        "outputId": "74c41bad-ccbe-4708-d079-72a2cf7f8b2a",
        "colab": {
          "base_uri": "https://localhost:8080/",
          "height": 336
        }
      },
      "execution_count": null,
      "outputs": [
        {
          "output_type": "stream",
          "name": "stderr",
          "text": [
            "/usr/local/lib/python3.7/dist-packages/seaborn/_decorators.py:43: FutureWarning: Pass the following variable as a keyword arg: x. From version 0.12, the only valid positional argument will be `data`, and passing other arguments without an explicit keyword will result in an error or misinterpretation.\n",
            "  FutureWarning\n"
          ]
        },
        {
          "output_type": "execute_result",
          "data": {
            "text/plain": [
              "<matplotlib.axes._subplots.AxesSubplot at 0x7f4f42cd8410>"
            ]
          },
          "metadata": {},
          "execution_count": 27
        },
        {
          "output_type": "display_data",
          "data": {
            "text/plain": [
              "<Figure size 432x288 with 1 Axes>"
            ],
            "image/png": "[encoded data removed]"
          },
          "metadata": {
            "needs_background": "light"
          }
        }
      ]
    }
  ]
}